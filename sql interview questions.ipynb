{
 "cells": [
  {
   "cell_type": "code",
   "execution_count": 4,
   "id": "58ff74da",
   "metadata": {},
   "outputs": [],
   "source": [
    "import pandas as pd\n",
    "from pandasql import sqldf"
   ]
  },
  {
   "cell_type": "code",
   "execution_count": 5,
   "id": "5392989c",
   "metadata": {},
   "outputs": [],
   "source": [
    "import pandas as pd\n",
    "import random\n",
    "from datetime import datetime, timedelta\n",
    "\n",
    "# Helper function to generate random dates\n",
    "def random_date(start, end):\n",
    "    return start + timedelta(days=random.randint(0, (end - start).days))\n",
    "\n",
    "# Generate 50 customers\n",
    "customer_ids = list(range(1, 51))\n",
    "names = [f\"Customer_{i}\" for i in customer_ids]\n",
    "signupdate_start = datetime(2022, 1, 1)\n",
    "signupdate_end = datetime(2023, 12, 31)\n",
    "signupdate = [random_date(signupdate_start, signupdate_end) for _ in customer_ids]\n",
    "\n",
    "customers_df = pd.DataFrame({\n",
    "    \"CUSTOMERID\": customer_ids,\n",
    "    \"NAME\": names,\n",
    "    \"SIGNUPDATE\": pd.to_datetime(signupdate)\n",
    "})\n",
    "\n",
    "# Generate 100 orders\n",
    "order_ids = list(range(1001, 1101))\n",
    "customer_refs = [random.choice(customer_ids) for _ in order_ids]\n",
    "amounts = [round(random.uniform(20, 500), 2) for _ in order_ids]\n",
    "statuses = [random.choice([\"Completed\", \"Pending\", \"Cancelled\"]) for _ in order_ids]\n",
    "order_start = datetime(2023, 1, 1)\n",
    "order_end = datetime(2023, 12, 31)\n",
    "created_dates = [random_date(order_start, order_end) for _ in order_ids]\n",
    "\n",
    "orders_df = pd.DataFrame({\n",
    "    \"ORDERID\": order_ids,\n",
    "    \"CUSTOMERID\": customer_refs,\n",
    "    \"AMOUNT\": amounts,\n",
    "    \"STATUS\": statuses,\n",
    "    \"CREATEDAT\": pd.to_datetime(created_dates)\n",
    "})\n"
   ]
  },
  {
   "cell_type": "code",
   "execution_count": 6,
   "id": "23400d9a",
   "metadata": {},
   "outputs": [
    {
     "data": {
      "text/html": [
       "<div>\n",
       "<style scoped>\n",
       "    .dataframe tbody tr th:only-of-type {\n",
       "        vertical-align: middle;\n",
       "    }\n",
       "\n",
       "    .dataframe tbody tr th {\n",
       "        vertical-align: top;\n",
       "    }\n",
       "\n",
       "    .dataframe thead th {\n",
       "        text-align: right;\n",
       "    }\n",
       "</style>\n",
       "<table border=\"1\" class=\"dataframe\">\n",
       "  <thead>\n",
       "    <tr style=\"text-align: right;\">\n",
       "      <th></th>\n",
       "      <th>CUSTOMERID</th>\n",
       "      <th>NAME</th>\n",
       "      <th>SIGNUPDATE</th>\n",
       "    </tr>\n",
       "  </thead>\n",
       "  <tbody>\n",
       "    <tr>\n",
       "      <th>0</th>\n",
       "      <td>1</td>\n",
       "      <td>Customer_1</td>\n",
       "      <td>2023-05-03 00:00:00.000000</td>\n",
       "    </tr>\n",
       "    <tr>\n",
       "      <th>1</th>\n",
       "      <td>2</td>\n",
       "      <td>Customer_2</td>\n",
       "      <td>2022-10-27 00:00:00.000000</td>\n",
       "    </tr>\n",
       "    <tr>\n",
       "      <th>2</th>\n",
       "      <td>3</td>\n",
       "      <td>Customer_3</td>\n",
       "      <td>2022-05-14 00:00:00.000000</td>\n",
       "    </tr>\n",
       "    <tr>\n",
       "      <th>3</th>\n",
       "      <td>4</td>\n",
       "      <td>Customer_4</td>\n",
       "      <td>2022-11-12 00:00:00.000000</td>\n",
       "    </tr>\n",
       "    <tr>\n",
       "      <th>4</th>\n",
       "      <td>5</td>\n",
       "      <td>Customer_5</td>\n",
       "      <td>2023-02-17 00:00:00.000000</td>\n",
       "    </tr>\n",
       "  </tbody>\n",
       "</table>\n",
       "</div>"
      ],
      "text/plain": [
       "   CUSTOMERID        NAME                  SIGNUPDATE\n",
       "0           1  Customer_1  2023-05-03 00:00:00.000000\n",
       "1           2  Customer_2  2022-10-27 00:00:00.000000\n",
       "2           3  Customer_3  2022-05-14 00:00:00.000000\n",
       "3           4  Customer_4  2022-11-12 00:00:00.000000\n",
       "4           5  Customer_5  2023-02-17 00:00:00.000000"
      ]
     },
     "execution_count": 6,
     "metadata": {},
     "output_type": "execute_result"
    }
   ],
   "source": [
    "## Test query\n",
    "# Just put your query into the value q and put this as a parameter into sqldf function.\n",
    "q = \"\"\"\n",
    "        SELECT * \n",
    "        FROM customers_df\n",
    "        LIMIT 5;\n",
    "    \"\"\"\n",
    "\n",
    "sqldf(q)"
   ]
  },
  {
   "cell_type": "code",
   "execution_count": 7,
   "id": "97089028",
   "metadata": {},
   "outputs": [],
   "source": [
    "# Questions\n",
    "# 1) Count how many orders each customer has placed.\n",
    "# 2) Find customers who have placed more than 2 orders. Show their customer_id and the number of orders.\n",
    "# 3) List all orders with the customer's name, Columns: order_id, name, amount.\n",
    "# 4) List all customers and their total order amount (show NULL if they have no orders)."
   ]
  },
  {
   "cell_type": "code",
   "execution_count": null,
   "id": "d158c306",
   "metadata": {},
   "outputs": [],
   "source": []
  }
 ],
 "metadata": {
  "kernelspec": {
   "display_name": "Python 3 (ipykernel)",
   "language": "python",
   "name": "python3"
  },
  "language_info": {
   "codemirror_mode": {
    "name": "ipython",
    "version": 3
   },
   "file_extension": ".py",
   "mimetype": "text/x-python",
   "name": "python",
   "nbconvert_exporter": "python",
   "pygments_lexer": "ipython3",
   "version": "3.9.5"
  }
 },
 "nbformat": 4,
 "nbformat_minor": 5
}
