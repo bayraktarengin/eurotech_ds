{
 "cells": [
  {
   "cell_type": "code",
   "execution_count": null,
   "id": "f81e3984",
   "metadata": {},
   "outputs": [],
   "source": [
    "import pandas as pd\n",
    "import matplotlib.pyplot as plt"
   ]
  },
  {
   "cell_type": "code",
   "execution_count": null,
   "id": "7200ab81",
   "metadata": {},
   "outputs": [],
   "source": [
    "df = pd.read_csv(\"data/google-play-store.csv\")"
   ]
  },
  {
   "cell_type": "code",
   "execution_count": null,
   "id": "6c609d26",
   "metadata": {},
   "outputs": [],
   "source": [
    "df.head()"
   ]
  },
  {
   "cell_type": "code",
   "execution_count": null,
   "id": "27982bcc",
   "metadata": {},
   "outputs": [],
   "source": [
    "df.columns"
   ]
  },
  {
   "cell_type": "code",
   "execution_count": null,
   "id": "9a71e461",
   "metadata": {},
   "outputs": [],
   "source": [
    "# 1. How many apps are there in the dataset?"
   ]
  },
  {
   "cell_type": "code",
   "execution_count": null,
   "id": "e6b5c725",
   "metadata": {},
   "outputs": [],
   "source": [
    "df.shape[0]"
   ]
  },
  {
   "cell_type": "code",
   "execution_count": null,
   "id": "b119d33c",
   "metadata": {},
   "outputs": [],
   "source": [
    "df.nunique()"
   ]
  },
  {
   "cell_type": "code",
   "execution_count": null,
   "id": "824c3f56",
   "metadata": {},
   "outputs": [],
   "source": [
    "                \"first\"     \"last\"    False\n",
    "1 - \"Ahmet\"      False       True     True\n",
    "5 - \"Ahmet\"      True        True     True\n",
    "6 - \"Ahmet\"      True        False    True"
   ]
  },
  {
   "cell_type": "code",
   "execution_count": null,
   "id": "2ed27a71",
   "metadata": {},
   "outputs": [],
   "source": [
    "df[df[\"title\"].duplicated(keep = \"First\")].sort_values(\"title\")"
   ]
  },
  {
   "cell_type": "code",
   "execution_count": null,
   "id": "9bf842b5",
   "metadata": {},
   "outputs": [],
   "source": [
    "df[df[\"title\"].duplicated(keep=False)].sort_values(\"title\")"
   ]
  },
  {
   "cell_type": "code",
   "execution_count": null,
   "id": "d3fa645e",
   "metadata": {},
   "outputs": [],
   "source": [
    "# Q2: What are the top five genres of apps by count?"
   ]
  },
  {
   "cell_type": "code",
   "execution_count": null,
   "id": "7e448b88",
   "metadata": {},
   "outputs": [],
   "source": [
    "df.head()"
   ]
  },
  {
   "cell_type": "code",
   "execution_count": null,
   "id": "2ae22f66",
   "metadata": {},
   "outputs": [],
   "source": [
    "list(df[\"genre\"].value_counts().head(5).index)"
   ]
  },
  {
   "cell_type": "code",
   "execution_count": null,
   "id": "9c3f08b7",
   "metadata": {},
   "outputs": [],
   "source": [
    "df[\"genre\"].value_counts().head(5)[0]"
   ]
  },
  {
   "cell_type": "code",
   "execution_count": null,
   "id": "f3901627",
   "metadata": {},
   "outputs": [],
   "source": [
    "# Solve Q2 with groupby"
   ]
  },
  {
   "cell_type": "code",
   "execution_count": null,
   "id": "ede6be65",
   "metadata": {},
   "outputs": [],
   "source": [
    "df.groupby(\"genre\").size() # COUNT(*)"
   ]
  },
  {
   "cell_type": "code",
   "execution_count": null,
   "id": "ddbbcaeb",
   "metadata": {},
   "outputs": [],
   "source": [
    "df.groupby(\"genre\")"
   ]
  },
  {
   "cell_type": "code",
   "execution_count": null,
   "id": "5a671c58",
   "metadata": {},
   "outputs": [],
   "source": [
    "# split-apply-combine"
   ]
  },
  {
   "cell_type": "code",
   "execution_count": null,
   "id": "abc7810e",
   "metadata": {},
   "outputs": [],
   "source": [
    "for name, subdf in df.groupby(\"genre\"):\n",
    "    print(name)\n",
    "    print(\"+++++++++++++++++\")\n",
    "    print(subdf[\"genre\"].size)\n",
    "    \n",
    "    \n",
    "    "
   ]
  },
  {
   "cell_type": "code",
   "execution_count": null,
   "id": "9b7e555c",
   "metadata": {},
   "outputs": [],
   "source": [
    "df.groupby(\"genre\") \\\n",
    "    .size()  \\\n",
    "    .reset_index(name=\"count\")  \\\n",
    "    .sort_values(\"count\", ascending=False)  \\\n",
    "    .head(5)"
   ]
  },
  {
   "cell_type": "code",
   "execution_count": null,
   "id": "282b85c8",
   "metadata": {},
   "outputs": [],
   "source": [
    "# What is the average rating score for all apps?\n",
    "# What is the average rating score for each genre? Sort the output to get all genres in an ordered way."
   ]
  },
  {
   "cell_type": "code",
   "execution_count": null,
   "id": "ce4baf6e",
   "metadata": {},
   "outputs": [],
   "source": [
    "df.head()"
   ]
  },
  {
   "cell_type": "code",
   "execution_count": null,
   "id": "064ad2f7",
   "metadata": {},
   "outputs": [],
   "source": [
    "df.score.mean()"
   ]
  },
  {
   "cell_type": "code",
   "execution_count": null,
   "id": "cbed8e0b",
   "metadata": {},
   "outputs": [],
   "source": [
    "df.groupby(\"genre\", as_index=False).agg({\"score\": \"mean\"}).sort_values(\"score\")"
   ]
  },
  {
   "cell_type": "code",
   "execution_count": null,
   "id": "71d814c6",
   "metadata": {},
   "outputs": [],
   "source": [
    "df.groupby(\"genre\").agg({\"score\": \"mean\"}).sort_values(\"score\")"
   ]
  },
  {
   "cell_type": "code",
   "execution_count": null,
   "id": "0908e78f",
   "metadata": {},
   "outputs": [],
   "source": [
    "mylist = [['Maps & Navigation', 'Events', 'Beauty'], [25,65,98]]"
   ]
  },
  {
   "cell_type": "code",
   "execution_count": null,
   "id": "0392c073",
   "metadata": {},
   "outputs": [],
   "source": [
    "mylist"
   ]
  },
  {
   "cell_type": "code",
   "execution_count": null,
   "id": "9c523b69",
   "metadata": {},
   "outputs": [],
   "source": [
    "mylist[0]"
   ]
  },
  {
   "cell_type": "code",
   "execution_count": null,
   "id": "e2c01c78",
   "metadata": {},
   "outputs": [],
   "source": [
    "# Visualise the output in the Question 4"
   ]
  },
  {
   "cell_type": "code",
   "execution_count": null,
   "id": "77acc83e",
   "metadata": {},
   "outputs": [],
   "source": [
    "average_rating_per_genre = df.groupby('genre')['score'].mean()\n",
    "\n",
    "plt.figure(figsize=(14,8))\n",
    "average_rating_per_genre.plot(kind=\"bar\", color = \"skyblue\")\n",
    "\n",
    "plt.title(\"Average Rating score by Genre\")\n",
    "plt.ylabel(\"Average Rating Score\", fontsize= 12)\n",
    "\n",
    "#plt.xticks(rotation=45)\n",
    "plt.show()"
   ]
  },
  {
   "cell_type": "code",
   "execution_count": null,
   "id": "50e70030",
   "metadata": {},
   "outputs": [],
   "source": []
  }
 ],
 "metadata": {
  "kernelspec": {
   "display_name": "Python 3 (ipykernel)",
   "language": "python",
   "name": "python3"
  },
  "language_info": {
   "codemirror_mode": {
    "name": "ipython",
    "version": 3
   },
   "file_extension": ".py",
   "mimetype": "text/x-python",
   "name": "python",
   "nbconvert_exporter": "python",
   "pygments_lexer": "ipython3",
   "version": "3.9.5"
  }
 },
 "nbformat": 4,
 "nbformat_minor": 5
}
